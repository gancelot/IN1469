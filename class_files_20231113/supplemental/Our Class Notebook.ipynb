{
 "cells": [
  {
   "cell_type": "markdown",
   "id": "ee9eee40-75ce-4176-bf23-aa6876ebb2d4",
   "metadata": {},
   "source": [
    "# Our Class Notebook\n",
    "### Class Examples..."
   ]
  },
  {
   "cell_type": "code",
   "execution_count": 16,
   "id": "91b509a2-245b-4ed4-9c1a-24b17b088db9",
   "metadata": {},
   "outputs": [],
   "source": [
    "import sys\n",
    "\n",
    "import numpy as np\n",
    "import matplotlib.pyplot as plt\n",
    "import pandas as pd"
   ]
  },
  {
   "cell_type": "code",
   "execution_count": 2,
   "id": "39440c17-2c66-4db2-9dd1-12640322ddf0",
   "metadata": {},
   "outputs": [
    {
     "data": {
      "text/plain": [
       "array([1, 2, 3])"
      ]
     },
     "execution_count": 2,
     "metadata": {},
     "output_type": "execute_result"
    }
   ],
   "source": [
    "arr = np.array([1, 2, 3])\n",
    "arr"
   ]
  },
  {
   "cell_type": "code",
   "execution_count": 3,
   "id": "6639e011-903b-4736-a7fc-186177d176cc",
   "metadata": {},
   "outputs": [
    {
     "data": {
      "text/plain": [
       "array([[10, 11, 12, 13, 14],\n",
       "       [15, 16, 17, 18, 19],\n",
       "       [20, 21, 22, 23, 24],\n",
       "       [25, 26, 27, 28, 29]])"
      ]
     },
     "execution_count": 3,
     "metadata": {},
     "output_type": "execute_result"
    }
   ],
   "source": [
    "arr2 = np.arange(10, 30).reshape((4, 5))\n",
    "arr2"
   ]
  },
  {
   "cell_type": "code",
   "execution_count": 4,
   "id": "392772e4-e759-4ae6-8222-01cc9d6fec95",
   "metadata": {},
   "outputs": [
    {
     "data": {
      "text/plain": [
       "array([ True,  True,  True, False, False])"
      ]
     },
     "execution_count": 4,
     "metadata": {},
     "output_type": "execute_result"
    }
   ],
   "source": [
    "arr2[0] < 13"
   ]
  },
  {
   "cell_type": "code",
   "execution_count": 5,
   "id": "4927b326-3b5a-4df4-af03-c001b4778f34",
   "metadata": {},
   "outputs": [
    {
     "data": {
      "text/plain": [
       "array([[10, 11, 12],\n",
       "       [15, 16, 17],\n",
       "       [20, 21, 22],\n",
       "       [25, 26, 27]])"
      ]
     },
     "execution_count": 5,
     "metadata": {},
     "output_type": "execute_result"
    }
   ],
   "source": [
    "arr2[:, arr2[0] < 13]"
   ]
  },
  {
   "cell_type": "markdown",
   "id": "68e2865b-d1a8-40b1-afa6-106bf3cfb98e",
   "metadata": {},
   "source": [
    "<br><br>\n",
    "### Using Matplotlib"
   ]
  },
  {
   "cell_type": "code",
   "execution_count": 17,
   "id": "c8b0fc16-c03c-4d08-8f4e-c991bdf3221a",
   "metadata": {},
   "outputs": [
    {
     "name": "stdout",
     "output_type": "stream",
     "text": [
      "[ 1  2  3  4  5  6  7  8  9 10]\n",
      "[8.45656254 8.49460376 8.83250415 3.55624784 3.67547852 1.18576819\n",
      " 7.23243851 1.28718247 3.46818418 6.09496132]\n"
     ]
    }
   ],
   "source": [
    "x = np.arange(1, 11)\n",
    "y = 10 * np.random.rand(10)\n",
    "print(x)\n",
    "print(y)"
   ]
  },
  {
   "cell_type": "code",
   "execution_count": 25,
   "id": "ae7b87fc-d036-4779-9f00-cd22e4373b2d",
   "metadata": {},
   "outputs": [
    {
     "data": {
      "image/png": "[encoded data removed]",
      "text/plain": [
       "<Figure size 640x480 with 1 Axes>"
      ]
     },
     "metadata": {},
     "output_type": "display_data"
    }
   ],
   "source": [
    "plt.plot(x, y, 'g^--');"
   ]
  },
  {
   "attachments": {},
   "cell_type": "markdown",
   "id": "fe0b827a-64dc-4f57-935d-a876496db281",
   "metadata": {},
   "source": [
    "$$E = \\frac{mc^2}{\\sqrt{1-\\frac{v^2}{c^2}}}$$"
   ]
  },
  {
   "cell_type": "markdown",
   "id": "6ba5e817-e130-4a20-94b5-91b16240b4f7",
   "metadata": {},
   "source": [
    "<br><br>\n",
    "## Task 5-1"
   ]
  },
  {
   "cell_type": "code",
   "execution_count": 6,
   "id": "19a22920-54da-4287-a3cf-d93b12776fb1",
   "metadata": {},
   "outputs": [],
   "source": [
    "def read_data(filename: str) -> list[tuple]:\n",
    "    data = []\n",
    "    with open(filename, encoding='utf-8') as f:\n",
    "        f.readline()\n",
    "        for line in f:\n",
    "            city, state, year, population = line.strip().split(',')\n",
    "            data.append((city, state, int(year), int(population)))\n",
    "    return data"
   ]
  },
  {
   "cell_type": "code",
   "execution_count": 7,
   "id": "e3793088-a639-4616-ba3c-4ccc2db2165c",
   "metadata": {},
   "outputs": [],
   "source": [
    "filename = 'resources/population_data.csv'"
   ]
  },
  {
   "cell_type": "code",
   "execution_count": 8,
   "id": "e743076b-4c31-4219-9103-8558560d85bb",
   "metadata": {},
   "outputs": [
    {
     "data": {
      "text/plain": [
       "[('Colorado Springs', 'CO', 2020, 485946),\n",
       " ('Raleigh', 'NC', 2020, 481958),\n",
       " ('Honolulu', 'HI', 2020, 342933),\n",
       " ('Anchorage', 'AK', 2010, 293310),\n",
       " ('Newark', 'NJ', 2010, 277158)]"
      ]
     },
     "execution_count": 8,
     "metadata": {},
     "output_type": "execute_result"
    }
   ],
   "source": [
    "results = read_data(filename)\n",
    "results"
   ]
  },
  {
   "cell_type": "markdown",
   "id": "2d8f6634-4dcc-43e4-aef0-628b31fa6bef",
   "metadata": {},
   "source": [
    "<br><br>\n",
    "\n",
    "## Task 5-2"
   ]
  },
  {
   "cell_type": "code",
   "execution_count": 9,
   "id": "089b0891-08de-4d58-80ec-7f09a65fa6f7",
   "metadata": {},
   "outputs": [
    {
     "data": {
      "text/plain": [
       "array([['Colorado Springs', 'CO', 2020, 485946],\n",
       "       ['Raleigh', 'NC', 2020, 481958],\n",
       "       ['Honolulu', 'HI', 2020, 342933],\n",
       "       ['Anchorage', 'AK', 2010, 293310],\n",
       "       ['Newark', 'NJ', 2010, 277158]], dtype=object)"
      ]
     },
     "execution_count": 9,
     "metadata": {},
     "output_type": "execute_result"
    }
   ],
   "source": [
    "populations = np.array(results, dtype=object)\n",
    "populations"
   ]
  },
  {
   "cell_type": "markdown",
   "id": "b759080f-2d0d-4498-8a10-95e614fa50a8",
   "metadata": {},
   "source": [
    "Question 1..."
   ]
  },
  {
   "cell_type": "code",
   "execution_count": 10,
   "id": "d63a71f7-9878-4911-8e49-8e362fbd012b",
   "metadata": {},
   "outputs": [
    {
     "data": {
      "text/plain": [
       "(5, 4)"
      ]
     },
     "execution_count": 10,
     "metadata": {},
     "output_type": "execute_result"
    }
   ],
   "source": [
    "populations.shape"
   ]
  },
  {
   "cell_type": "code",
   "execution_count": 11,
   "id": "7127e5ef-a3c3-4ecf-9119-b261bff49a8b",
   "metadata": {},
   "outputs": [
    {
     "data": {
      "text/plain": [
       "(20, 2)"
      ]
     },
     "execution_count": 11,
     "metadata": {},
     "output_type": "execute_result"
    }
   ],
   "source": [
    "populations.size, populations.ndim"
   ]
  },
  {
   "cell_type": "markdown",
   "id": "fc8ea51d-5d62-4d5f-9400-198c60402f9d",
   "metadata": {},
   "source": [
    "Question 2..."
   ]
  },
  {
   "cell_type": "code",
   "execution_count": 12,
   "id": "e637e8f6-e335-4992-a744-ea5b1ce0cadc",
   "metadata": {},
   "outputs": [
    {
     "data": {
      "text/plain": [
       "376261.0"
      ]
     },
     "execution_count": 12,
     "metadata": {},
     "output_type": "execute_result"
    }
   ],
   "source": [
    "populations[:, -1].mean()"
   ]
  },
  {
   "cell_type": "markdown",
   "id": "c6369ca3-c4b8-4da6-bfc8-ceda4c3d4a56",
   "metadata": {},
   "source": [
    "Question 3..."
   ]
  },
  {
   "cell_type": "code",
   "execution_count": 13,
   "id": "77a655d8-2c71-4332-9e19-f538244a822b",
   "metadata": {},
   "outputs": [
    {
     "data": {
      "text/plain": [
       "3"
      ]
     },
     "execution_count": 13,
     "metadata": {},
     "output_type": "execute_result"
    }
   ],
   "source": [
    "mask = populations[:, 2] == 2020\n",
    "len(populations[mask])"
   ]
  },
  {
   "cell_type": "markdown",
   "id": "95769b48-1fac-432e-bae7-ab594af5aa8e",
   "metadata": {},
   "source": [
    "Question 4..."
   ]
  },
  {
   "cell_type": "code",
   "execution_count": 14,
   "id": "fb78e660-2b62-4c07-96e6-d8470d2c385f",
   "metadata": {},
   "outputs": [
    {
     "data": {
      "text/plain": [
       "array([['Colorado Springs', 'CO', 2020, 485946],\n",
       "       ['Raleigh', 'NC', 2020, 481958]], dtype=object)"
      ]
     },
     "execution_count": 14,
     "metadata": {},
     "output_type": "execute_result"
    }
   ],
   "source": [
    "mask = populations[:, -1] > 350_000\n",
    "populations[mask]"
   ]
  },
  {
   "cell_type": "markdown",
   "id": "699ff4f8-7356-424d-bf80-51ba8652eeaa",
   "metadata": {},
   "source": [
    "<br><br>\n",
    "\n",
    "## Task 5-4"
   ]
  },
  {
   "cell_type": "code",
   "execution_count": 28,
   "id": "167941ff-6207-4210-8423-e109db1cec00",
   "metadata": {},
   "outputs": [],
   "source": [
    "x = populations[:, 0]\n",
    "height = populations[:, -1]"
   ]
  },
  {
   "cell_type": "code",
   "execution_count": 33,
   "id": "a6a983ed-4c58-4bd8-bfb0-634721eb4f39",
   "metadata": {},
   "outputs": [
    {
     "data": {
      "image/png": "[encoded data removed]",
      "text/plain": [
       "<Figure size 640x480 with 1 Axes>"
      ]
     },
     "metadata": {},
     "output_type": "display_data"
    }
   ],
   "source": [
    "plt.bar(x=x, height=height, color=['#cd47d2', '#a137b2'])\n",
    "plt.xlabel('City', color='red')\n",
    "plt.ylabel('Population', color='red');"
   ]
  },
  {
   "cell_type": "markdown",
   "id": "b661ace0-4ee1-4610-8bb0-969f6ce15c1a",
   "metadata": {},
   "source": [
    "<br><br>\n",
    "# Using Pandas with a a log file"
   ]
  },
  {
   "cell_type": "code",
   "execution_count": 36,
   "id": "a88b39c6-6154-478c-88df-abd073445285",
   "metadata": {},
   "outputs": [
    {
     "data": {
      "text/plain": [
       "(463915, 6)"
      ]
     },
     "execution_count": 36,
     "metadata": {},
     "output_type": "execute_result"
    }
   ],
   "source": [
    "log = pd.read_csv('resources/new_access.log', sep='\\s+', usecols=[0, 3, 5, 6, 7, 9],\n",
    "                  names=['addr', 'req_date', 'path', 'status', 'size', 'browser'], low_memory=False)\n",
    "log.shape"
   ]
  },
  {
   "cell_type": "code",
   "execution_count": 37,
   "id": "608824e6-a4c6-423a-9cd0-3538efa14ab7",
   "metadata": {},
   "outputs": [
    {
     "data": {
      "text/html": [
       "<div>\n",
       "<style scoped>\n",
       "    .dataframe tbody tr th:only-of-type {\n",
       "        vertical-align: middle;\n",
       "    }\n",
       "\n",
       "    .dataframe tbody tr th {\n",
       "        vertical-align: top;\n",
       "    }\n",
       "\n",
       "    .dataframe thead th {\n",
       "        text-align: right;\n",
       "    }\n",
       "</style>\n",
       "<table border=\"1\" class=\"dataframe\">\n",
       "  <thead>\n",
       "    <tr style=\"text-align: right;\">\n",
       "      <th></th>\n",
       "      <th>addr</th>\n",
       "      <th>req_date</th>\n",
       "      <th>path</th>\n",
       "      <th>status</th>\n",
       "      <th>size</th>\n",
       "      <th>browser</th>\n",
       "    </tr>\n",
       "  </thead>\n",
       "  <tbody>\n",
       "    <tr>\n",
       "      <th>0</th>\n",
       "      <td>109.169.248.247</td>\n",
       "      <td>[12/Dec/2015:18:25:11</td>\n",
       "      <td>GET /administrator/ HTTP/1.1</td>\n",
       "      <td>200</td>\n",
       "      <td>4263</td>\n",
       "      <td>Mozilla/5.0 (Windows NT 6.0; rv:34.0) Gecko/20...</td>\n",
       "    </tr>\n",
       "    <tr>\n",
       "      <th>1</th>\n",
       "      <td>109.169.248.247</td>\n",
       "      <td>[12/Dec/2015:18:25:11</td>\n",
       "      <td>POST /administrator/index.php HTTP/1.1</td>\n",
       "      <td>200</td>\n",
       "      <td>4494</td>\n",
       "      <td>Mozilla/5.0 (Windows NT 6.0; rv:34.0) Gecko/20...</td>\n",
       "    </tr>\n",
       "    <tr>\n",
       "      <th>2</th>\n",
       "      <td>46.72.177.4</td>\n",
       "      <td>[12/Dec/2015:18:31:08</td>\n",
       "      <td>GET /administrator/ HTTP/1.1</td>\n",
       "      <td>200</td>\n",
       "      <td>4263</td>\n",
       "      <td>Mozilla/5.0 (Windows NT 6.0; rv:34.0) Gecko/20...</td>\n",
       "    </tr>\n",
       "    <tr>\n",
       "      <th>3</th>\n",
       "      <td>46.72.177.4</td>\n",
       "      <td>[12/Dec/2015:18:31:08</td>\n",
       "      <td>POST /administrator/index.php HTTP/1.1</td>\n",
       "      <td>200</td>\n",
       "      <td>4494</td>\n",
       "      <td>Mozilla/5.0 (Windows NT 6.0; rv:34.0) Gecko/20...</td>\n",
       "    </tr>\n",
       "    <tr>\n",
       "      <th>4</th>\n",
       "      <td>83.167.113.100</td>\n",
       "      <td>[12/Dec/2015:18:31:25</td>\n",
       "      <td>GET /administrator/ HTTP/1.1</td>\n",
       "      <td>200</td>\n",
       "      <td>4263</td>\n",
       "      <td>Mozilla/5.0 (Windows NT 6.0; rv:34.0) Gecko/20...</td>\n",
       "    </tr>\n",
       "  </tbody>\n",
       "</table>\n",
       "</div>"
      ],
      "text/plain": [
       "              addr               req_date  \\\n",
       "0  109.169.248.247  [12/Dec/2015:18:25:11   \n",
       "1  109.169.248.247  [12/Dec/2015:18:25:11   \n",
       "2      46.72.177.4  [12/Dec/2015:18:31:08   \n",
       "3      46.72.177.4  [12/Dec/2015:18:31:08   \n",
       "4   83.167.113.100  [12/Dec/2015:18:31:25   \n",
       "\n",
       "                                     path  status  size  \\\n",
       "0            GET /administrator/ HTTP/1.1     200  4263   \n",
       "1  POST /administrator/index.php HTTP/1.1     200  4494   \n",
       "2            GET /administrator/ HTTP/1.1     200  4263   \n",
       "3  POST /administrator/index.php HTTP/1.1     200  4494   \n",
       "4            GET /administrator/ HTTP/1.1     200  4263   \n",
       "\n",
       "                                             browser  \n",
       "0  Mozilla/5.0 (Windows NT 6.0; rv:34.0) Gecko/20...  \n",
       "1  Mozilla/5.0 (Windows NT 6.0; rv:34.0) Gecko/20...  \n",
       "2  Mozilla/5.0 (Windows NT 6.0; rv:34.0) Gecko/20...  \n",
       "3  Mozilla/5.0 (Windows NT 6.0; rv:34.0) Gecko/20...  \n",
       "4  Mozilla/5.0 (Windows NT 6.0; rv:34.0) Gecko/20...  "
      ]
     },
     "execution_count": 37,
     "metadata": {},
     "output_type": "execute_result"
    }
   ],
   "source": [
    "log.head()"
   ]
  },
  {
   "cell_type": "code",
   "execution_count": 38,
   "id": "5075f9a9-6b1d-4f2b-9cc7-ce7d99683f2a",
   "metadata": {},
   "outputs": [
    {
     "name": "stdout",
     "output_type": "stream",
     "text": [
      "<class 'pandas.core.frame.DataFrame'>\n",
      "RangeIndex: 463915 entries, 0 to 463914\n",
      "Data columns (total 6 columns):\n",
      " #   Column    Non-Null Count   Dtype \n",
      "---  ------    --------------   ----- \n",
      " 0   addr      463915 non-null  object\n",
      " 1   req_date  463915 non-null  object\n",
      " 2   path      463915 non-null  object\n",
      " 3   status    463915 non-null  int64 \n",
      " 4   size      463914 non-null  object\n",
      " 5   browser   463860 non-null  object\n",
      "dtypes: int64(1), object(5)\n",
      "memory usage: 21.2+ MB\n"
     ]
    }
   ],
   "source": [
    "log.info()"
   ]
  },
  {
   "cell_type": "code",
   "execution_count": 39,
   "id": "e5131381-bbce-408c-bb3a-aa4973612d6f",
   "metadata": {},
   "outputs": [
    {
     "data": {
      "text/plain": [
       "array([200, 404, 500, 405, 301, 304, 501, 206, 403, 303, 412, 400],\n",
       "      dtype=int64)"
      ]
     },
     "execution_count": 39,
     "metadata": {},
     "output_type": "execute_result"
    }
   ],
   "source": [
    "log.status.unique()"
   ]
  },
  {
   "cell_type": "code",
   "execution_count": 40,
   "id": "68451004-976c-4a9d-8f4a-23e004a31c62",
   "metadata": {},
   "outputs": [
    {
     "data": {
      "text/plain": [
       "status\n",
       "200    429216\n",
       "404     29687\n",
       "304      2517\n",
       "206      1689\n",
       "301       382\n",
       "500       359\n",
       "303        25\n",
       "403        19\n",
       "405        15\n",
       "412         4\n",
       "501         1\n",
       "400         1\n",
       "Name: count, dtype: int64"
      ]
     },
     "execution_count": 40,
     "metadata": {},
     "output_type": "execute_result"
    }
   ],
   "source": [
    "log.status.value_counts()"
   ]
  },
  {
   "cell_type": "code",
   "execution_count": 42,
   "id": "f848c9ba-1d67-4726-a3ab-91e630033375",
   "metadata": {},
   "outputs": [
    {
     "data": {
      "text/plain": [
       "addr         0\n",
       "req_date     0\n",
       "path         0\n",
       "status       0\n",
       "size         1\n",
       "browser     55\n",
       "dtype: int64"
      ]
     },
     "execution_count": 42,
     "metadata": {},
     "output_type": "execute_result"
    }
   ],
   "source": [
    "pd.isnull(log).sum()"
   ]
  },
  {
   "cell_type": "code",
   "execution_count": 43,
   "id": "cb5915d8-7670-4024-b975-d404c4d84bd5",
   "metadata": {},
   "outputs": [],
   "source": [
    "log.req_date = pd.to_datetime(log.req_date, format='[%d/%b/%Y:%H:%M:%S')"
   ]
  },
  {
   "cell_type": "code",
   "execution_count": 44,
   "id": "6c431242-4667-479e-968e-00aebd5320da",
   "metadata": {},
   "outputs": [
    {
     "data": {
      "text/html": [
       "<div>\n",
       "<style scoped>\n",
       "    .dataframe tbody tr th:only-of-type {\n",
       "        vertical-align: middle;\n",
       "    }\n",
       "\n",
       "    .dataframe tbody tr th {\n",
       "        vertical-align: top;\n",
       "    }\n",
       "\n",
       "    .dataframe thead th {\n",
       "        text-align: right;\n",
       "    }\n",
       "</style>\n",
       "<table border=\"1\" class=\"dataframe\">\n",
       "  <thead>\n",
       "    <tr style=\"text-align: right;\">\n",
       "      <th></th>\n",
       "      <th>addr</th>\n",
       "      <th>req_date</th>\n",
       "      <th>path</th>\n",
       "      <th>status</th>\n",
       "      <th>size</th>\n",
       "      <th>browser</th>\n",
       "    </tr>\n",
       "  </thead>\n",
       "  <tbody>\n",
       "    <tr>\n",
       "      <th>0</th>\n",
       "      <td>109.169.248.247</td>\n",
       "      <td>2015-12-12 18:25:11</td>\n",
       "      <td>GET /administrator/ HTTP/1.1</td>\n",
       "      <td>200</td>\n",
       "      <td>4263</td>\n",
       "      <td>Mozilla/5.0 (Windows NT 6.0; rv:34.0) Gecko/20...</td>\n",
       "    </tr>\n",
       "    <tr>\n",
       "      <th>1</th>\n",
       "      <td>109.169.248.247</td>\n",
       "      <td>2015-12-12 18:25:11</td>\n",
       "      <td>POST /administrator/index.php HTTP/1.1</td>\n",
       "      <td>200</td>\n",
       "      <td>4494</td>\n",
       "      <td>Mozilla/5.0 (Windows NT 6.0; rv:34.0) Gecko/20...</td>\n",
       "    </tr>\n",
       "    <tr>\n",
       "      <th>2</th>\n",
       "      <td>46.72.177.4</td>\n",
       "      <td>2015-12-12 18:31:08</td>\n",
       "      <td>GET /administrator/ HTTP/1.1</td>\n",
       "      <td>200</td>\n",
       "      <td>4263</td>\n",
       "      <td>Mozilla/5.0 (Windows NT 6.0; rv:34.0) Gecko/20...</td>\n",
       "    </tr>\n",
       "    <tr>\n",
       "      <th>3</th>\n",
       "      <td>46.72.177.4</td>\n",
       "      <td>2015-12-12 18:31:08</td>\n",
       "      <td>POST /administrator/index.php HTTP/1.1</td>\n",
       "      <td>200</td>\n",
       "      <td>4494</td>\n",
       "      <td>Mozilla/5.0 (Windows NT 6.0; rv:34.0) Gecko/20...</td>\n",
       "    </tr>\n",
       "    <tr>\n",
       "      <th>4</th>\n",
       "      <td>83.167.113.100</td>\n",
       "      <td>2015-12-12 18:31:25</td>\n",
       "      <td>GET /administrator/ HTTP/1.1</td>\n",
       "      <td>200</td>\n",
       "      <td>4263</td>\n",
       "      <td>Mozilla/5.0 (Windows NT 6.0; rv:34.0) Gecko/20...</td>\n",
       "    </tr>\n",
       "  </tbody>\n",
       "</table>\n",
       "</div>"
      ],
      "text/plain": [
       "              addr            req_date  \\\n",
       "0  109.169.248.247 2015-12-12 18:25:11   \n",
       "1  109.169.248.247 2015-12-12 18:25:11   \n",
       "2      46.72.177.4 2015-12-12 18:31:08   \n",
       "3      46.72.177.4 2015-12-12 18:31:08   \n",
       "4   83.167.113.100 2015-12-12 18:31:25   \n",
       "\n",
       "                                     path  status  size  \\\n",
       "0            GET /administrator/ HTTP/1.1     200  4263   \n",
       "1  POST /administrator/index.php HTTP/1.1     200  4494   \n",
       "2            GET /administrator/ HTTP/1.1     200  4263   \n",
       "3  POST /administrator/index.php HTTP/1.1     200  4494   \n",
       "4            GET /administrator/ HTTP/1.1     200  4263   \n",
       "\n",
       "                                             browser  \n",
       "0  Mozilla/5.0 (Windows NT 6.0; rv:34.0) Gecko/20...  \n",
       "1  Mozilla/5.0 (Windows NT 6.0; rv:34.0) Gecko/20...  \n",
       "2  Mozilla/5.0 (Windows NT 6.0; rv:34.0) Gecko/20...  \n",
       "3  Mozilla/5.0 (Windows NT 6.0; rv:34.0) Gecko/20...  \n",
       "4  Mozilla/5.0 (Windows NT 6.0; rv:34.0) Gecko/20...  "
      ]
     },
     "execution_count": 44,
     "metadata": {},
     "output_type": "execute_result"
    }
   ],
   "source": [
    "log.head()"
   ]
  },
  {
   "cell_type": "code",
   "execution_count": 45,
   "id": "beb6492c-46fb-43c0-8a8c-664433a4f985",
   "metadata": {},
   "outputs": [
    {
     "name": "stdout",
     "output_type": "stream",
     "text": [
      "<class 'pandas.core.frame.DataFrame'>\n",
      "RangeIndex: 463915 entries, 0 to 463914\n",
      "Data columns (total 6 columns):\n",
      " #   Column    Non-Null Count   Dtype         \n",
      "---  ------    --------------   -----         \n",
      " 0   addr      463915 non-null  object        \n",
      " 1   req_date  463915 non-null  datetime64[ns]\n",
      " 2   path      463915 non-null  object        \n",
      " 3   status    463915 non-null  int64         \n",
      " 4   size      463914 non-null  object        \n",
      " 5   browser   463860 non-null  object        \n",
      "dtypes: datetime64[ns](1), int64(1), object(4)\n",
      "memory usage: 21.2+ MB\n"
     ]
    }
   ],
   "source": [
    "log.info()"
   ]
  },
  {
   "cell_type": "code",
   "execution_count": 49,
   "id": "29e2a5f4-25a0-4c60-8773-5405fd813cc4",
   "metadata": {},
   "outputs": [
    {
     "data": {
      "text/plain": [
       "addr\n",
       "149.56.83.40       62178\n",
       "205.167.170.15     33302\n",
       "134.249.53.185     17904\n",
       "192.227.172.158    13474\n",
       "195.154.216.79     10996\n",
       "195.154.215.241     7705\n",
       "41.75.96.130        5664\n",
       "190.57.154.101      5662\n",
       "154.0.14.250        5659\n",
       "37.1.206.196        3780\n",
       "dtype: int64"
      ]
     },
     "execution_count": 49,
     "metadata": {},
     "output_type": "execute_result"
    }
   ],
   "source": [
    "top10_addrs = log.groupby('addr').size().sort_values(ascending=False).head(10)\n",
    "top10_addrs"
   ]
  },
  {
   "cell_type": "code",
   "execution_count": 52,
   "id": "18906826-0361-45e5-bd06-36e8eb73e328",
   "metadata": {},
   "outputs": [
    {
     "data": {
      "image/png": "[encoded data removed]",
      "text/plain": [
       "<Figure size 640x480 with 1 Axes>"
      ]
     },
     "metadata": {},
     "output_type": "display_data"
    }
   ],
   "source": [
    "top10_addrs[::-1].plot(kind='barh');"
   ]
  },
  {
   "cell_type": "code",
   "execution_count": 53,
   "id": "57cd840f-3fc3-43c7-ad06-60702067159c",
   "metadata": {},
   "outputs": [
    {
     "data": {
      "text/plain": [
       "addr\n",
       "149.56.83.40       62178\n",
       "205.167.170.15     33302\n",
       "134.249.53.185     17904\n",
       "192.227.172.158    13474\n",
       "195.154.216.79     10996\n",
       "195.154.215.241     7705\n",
       "41.75.96.130        5664\n",
       "190.57.154.101      5662\n",
       "154.0.14.250        5659\n",
       "37.1.206.196        3780\n",
       "dtype: int64"
      ]
     },
     "execution_count": 53,
     "metadata": {},
     "output_type": "execute_result"
    }
   ],
   "source": [
    "log.groupby('addr').size().nlargest(10)"
   ]
  },
  {
   "cell_type": "code",
   "execution_count": 54,
   "id": "7ed4eb53-93c2-433a-9142-3aa3347a32e3",
   "metadata": {},
   "outputs": [
    {
     "data": {
      "text/html": [
       "<div>\n",
       "<style scoped>\n",
       "    .dataframe tbody tr th:only-of-type {\n",
       "        vertical-align: middle;\n",
       "    }\n",
       "\n",
       "    .dataframe tbody tr th {\n",
       "        vertical-align: top;\n",
       "    }\n",
       "\n",
       "    .dataframe thead th {\n",
       "        text-align: right;\n",
       "    }\n",
       "</style>\n",
       "<table border=\"1\" class=\"dataframe\">\n",
       "  <thead>\n",
       "    <tr style=\"text-align: right;\">\n",
       "      <th></th>\n",
       "      <th>addr</th>\n",
       "      <th>req_date</th>\n",
       "      <th>path</th>\n",
       "      <th>status</th>\n",
       "      <th>size</th>\n",
       "      <th>browser</th>\n",
       "      <th>method</th>\n",
       "    </tr>\n",
       "  </thead>\n",
       "  <tbody>\n",
       "    <tr>\n",
       "      <th>0</th>\n",
       "      <td>109.169.248.247</td>\n",
       "      <td>2015-12-12 18:25:11</td>\n",
       "      <td>GET /administrator/ HTTP/1.1</td>\n",
       "      <td>200</td>\n",
       "      <td>4263</td>\n",
       "      <td>Mozilla/5.0 (Windows NT 6.0; rv:34.0) Gecko/20...</td>\n",
       "      <td>GET</td>\n",
       "    </tr>\n",
       "    <tr>\n",
       "      <th>1</th>\n",
       "      <td>109.169.248.247</td>\n",
       "      <td>2015-12-12 18:25:11</td>\n",
       "      <td>POST /administrator/index.php HTTP/1.1</td>\n",
       "      <td>200</td>\n",
       "      <td>4494</td>\n",
       "      <td>Mozilla/5.0 (Windows NT 6.0; rv:34.0) Gecko/20...</td>\n",
       "      <td>POST</td>\n",
       "    </tr>\n",
       "    <tr>\n",
       "      <th>2</th>\n",
       "      <td>46.72.177.4</td>\n",
       "      <td>2015-12-12 18:31:08</td>\n",
       "      <td>GET /administrator/ HTTP/1.1</td>\n",
       "      <td>200</td>\n",
       "      <td>4263</td>\n",
       "      <td>Mozilla/5.0 (Windows NT 6.0; rv:34.0) Gecko/20...</td>\n",
       "      <td>GET</td>\n",
       "    </tr>\n",
       "    <tr>\n",
       "      <th>3</th>\n",
       "      <td>46.72.177.4</td>\n",
       "      <td>2015-12-12 18:31:08</td>\n",
       "      <td>POST /administrator/index.php HTTP/1.1</td>\n",
       "      <td>200</td>\n",
       "      <td>4494</td>\n",
       "      <td>Mozilla/5.0 (Windows NT 6.0; rv:34.0) Gecko/20...</td>\n",
       "      <td>POST</td>\n",
       "    </tr>\n",
       "    <tr>\n",
       "      <th>4</th>\n",
       "      <td>83.167.113.100</td>\n",
       "      <td>2015-12-12 18:31:25</td>\n",
       "      <td>GET /administrator/ HTTP/1.1</td>\n",
       "      <td>200</td>\n",
       "      <td>4263</td>\n",
       "      <td>Mozilla/5.0 (Windows NT 6.0; rv:34.0) Gecko/20...</td>\n",
       "      <td>GET</td>\n",
       "    </tr>\n",
       "  </tbody>\n",
       "</table>\n",
       "</div>"
      ],
      "text/plain": [
       "              addr            req_date  \\\n",
       "0  109.169.248.247 2015-12-12 18:25:11   \n",
       "1  109.169.248.247 2015-12-12 18:25:11   \n",
       "2      46.72.177.4 2015-12-12 18:31:08   \n",
       "3      46.72.177.4 2015-12-12 18:31:08   \n",
       "4   83.167.113.100 2015-12-12 18:31:25   \n",
       "\n",
       "                                     path  status  size  \\\n",
       "0            GET /administrator/ HTTP/1.1     200  4263   \n",
       "1  POST /administrator/index.php HTTP/1.1     200  4494   \n",
       "2            GET /administrator/ HTTP/1.1     200  4263   \n",
       "3  POST /administrator/index.php HTTP/1.1     200  4494   \n",
       "4            GET /administrator/ HTTP/1.1     200  4263   \n",
       "\n",
       "                                             browser method  \n",
       "0  Mozilla/5.0 (Windows NT 6.0; rv:34.0) Gecko/20...    GET  \n",
       "1  Mozilla/5.0 (Windows NT 6.0; rv:34.0) Gecko/20...   POST  \n",
       "2  Mozilla/5.0 (Windows NT 6.0; rv:34.0) Gecko/20...    GET  \n",
       "3  Mozilla/5.0 (Windows NT 6.0; rv:34.0) Gecko/20...   POST  \n",
       "4  Mozilla/5.0 (Windows NT 6.0; rv:34.0) Gecko/20...    GET  "
      ]
     },
     "execution_count": 54,
     "metadata": {},
     "output_type": "execute_result"
    }
   ],
   "source": [
    "log['method'] = log.path.apply(lambda cell: cell.split()[0])\n",
    "log.head()"
   ]
  },
  {
   "cell_type": "code",
   "execution_count": 55,
   "id": "ce2a80d2-af03-4835-944c-455d79889716",
   "metadata": {},
   "outputs": [
    {
     "data": {
      "text/plain": [
       "addr\n",
       "149.56.83.40       62177\n",
       "192.227.172.158     6731\n",
       "134.249.53.185      5968\n",
       "41.75.96.130        5664\n",
       "190.57.154.101      5662\n",
       "154.0.14.250        5659\n",
       "78.186.191.187      2840\n",
       "200.148.166.42      2829\n",
       "41.134.79.41        2719\n",
       "158.69.186.125      2322\n",
       "dtype: int64"
      ]
     },
     "execution_count": 55,
     "metadata": {},
     "output_type": "execute_result"
    }
   ],
   "source": [
    "mask = log.method == 'POST'\n",
    "top10_posts = log[mask].groupby('addr').size().nlargest(10)\n",
    "top10_posts"
   ]
  },
  {
   "cell_type": "code",
   "execution_count": 57,
   "id": "386dc3d9-61d9-4ac8-ae57-e246110603bb",
   "metadata": {},
   "outputs": [
    {
     "data": {
      "image/png": "[encoded data removed]",
      "text/plain": [
       "<Figure size 640x480 with 1 Axes>"
      ]
     },
     "metadata": {},
     "output_type": "display_data"
    }
   ],
   "source": [
    "top10_posts[::-1].plot(kind='barh');"
   ]
  },
  {
   "cell_type": "code",
   "execution_count": 58,
   "id": "3199569b-9921-45ad-8851-271a73f8a1c7",
   "metadata": {},
   "outputs": [
    {
     "data": {
      "text/plain": [
       "['Requirement already satisfied: pygeoip in .\\\\venv311\\\\lib\\\\site-packages (0.3.2)',\n",
       " '',\n",
       " '[notice] A new release of pip is available: 23.2.1 -> 23.3.1',\n",
       " '[notice] To update, run: python.exe -m pip install --upgrade pip']"
      ]
     },
     "execution_count": 58,
     "metadata": {},
     "output_type": "execute_result"
    }
   ],
   "source": [
    "!! pip install pygeoip"
   ]
  },
  {
   "cell_type": "code",
   "execution_count": 59,
   "id": "144dd99c-c851-4d2a-bda1-fb51d0fb7567",
   "metadata": {},
   "outputs": [
    {
     "data": {
      "text/plain": [
       "{'dma_code': 0,\n",
       " 'area_code': 0,\n",
       " 'metro_code': None,\n",
       " 'postal_code': 'H3A',\n",
       " 'country_code': 'CA',\n",
       " 'country_code3': 'CAN',\n",
       " 'country_name': 'Canada',\n",
       " 'continent': 'NA',\n",
       " 'region_code': 'QC',\n",
       " 'city': 'Montréal',\n",
       " 'latitude': 45.50399999999999,\n",
       " 'longitude': -73.5747,\n",
       " 'time_zone': 'America/Montreal'}"
      ]
     },
     "execution_count": 59,
     "metadata": {},
     "output_type": "execute_result"
    }
   ],
   "source": [
    "import pygeoip\n",
    "GEOIP = pygeoip.GeoIP('resources/GeoLiteCity.dat')\n",
    "GEOIP.record_by_addr('149.56.83.40')"
   ]
  },
  {
   "cell_type": "code",
   "execution_count": 60,
   "id": "2180fa01-10d2-409e-b82f-989795be7c76",
   "metadata": {},
   "outputs": [],
   "source": [
    "def get_location(addr):\n",
    "    results = ['', '', 0, 0]\n",
    "    try:\n",
    "        info = GEOIP.record_by_addr(addr)\n",
    "        if info:\n",
    "            results = [info.get('country_name'), info.get('city'), info.get('latitude'), info.get('longitude')]\n",
    "    except pygeoip.GeoIPError:\n",
    "        pass\n",
    "    \n",
    "    return results"
   ]
  },
  {
   "cell_type": "code",
   "execution_count": 61,
   "id": "00396a3b-f3da-4f45-882f-2d49e0d24c67",
   "metadata": {},
   "outputs": [],
   "source": [
    "results = log.addr.map(get_location)"
   ]
  },
  {
   "cell_type": "code",
   "execution_count": 62,
   "id": "c0cd1a9d-b77f-40fa-bfa1-f1320889a88a",
   "metadata": {},
   "outputs": [],
   "source": [
    "locations = pd.DataFrame(results.to_numpy().tolist(), columns=['country', 'city', 'latitude', 'longitude'])"
   ]
  },
  {
   "cell_type": "code",
   "execution_count": 63,
   "id": "e219d03d-86d2-43ee-b772-0b0fa24c4351",
   "metadata": {},
   "outputs": [
    {
     "data": {
      "text/html": [
       "<div>\n",
       "<style scoped>\n",
       "    .dataframe tbody tr th:only-of-type {\n",
       "        vertical-align: middle;\n",
       "    }\n",
       "\n",
       "    .dataframe tbody tr th {\n",
       "        vertical-align: top;\n",
       "    }\n",
       "\n",
       "    .dataframe thead th {\n",
       "        text-align: right;\n",
       "    }\n",
       "</style>\n",
       "<table border=\"1\" class=\"dataframe\">\n",
       "  <thead>\n",
       "    <tr style=\"text-align: right;\">\n",
       "      <th></th>\n",
       "      <th>country</th>\n",
       "      <th>city</th>\n",
       "      <th>latitude</th>\n",
       "      <th>longitude</th>\n",
       "    </tr>\n",
       "  </thead>\n",
       "  <tbody>\n",
       "    <tr>\n",
       "      <th>0</th>\n",
       "      <td>Russian Federation</td>\n",
       "      <td>Chapaevsk</td>\n",
       "      <td>52.9781</td>\n",
       "      <td>49.7197</td>\n",
       "    </tr>\n",
       "    <tr>\n",
       "      <th>1</th>\n",
       "      <td>Russian Federation</td>\n",
       "      <td>Chapaevsk</td>\n",
       "      <td>52.9781</td>\n",
       "      <td>49.7197</td>\n",
       "    </tr>\n",
       "    <tr>\n",
       "      <th>2</th>\n",
       "      <td>Russian Federation</td>\n",
       "      <td>Kursk</td>\n",
       "      <td>51.8830</td>\n",
       "      <td>36.2659</td>\n",
       "    </tr>\n",
       "    <tr>\n",
       "      <th>3</th>\n",
       "      <td>Russian Federation</td>\n",
       "      <td>Kursk</td>\n",
       "      <td>51.8830</td>\n",
       "      <td>36.2659</td>\n",
       "    </tr>\n",
       "    <tr>\n",
       "      <th>4</th>\n",
       "      <td>Russian Federation</td>\n",
       "      <td>Moscow</td>\n",
       "      <td>55.7522</td>\n",
       "      <td>37.6156</td>\n",
       "    </tr>\n",
       "  </tbody>\n",
       "</table>\n",
       "</div>"
      ],
      "text/plain": [
       "              country       city  latitude  longitude\n",
       "0  Russian Federation  Chapaevsk   52.9781    49.7197\n",
       "1  Russian Federation  Chapaevsk   52.9781    49.7197\n",
       "2  Russian Federation      Kursk   51.8830    36.2659\n",
       "3  Russian Federation      Kursk   51.8830    36.2659\n",
       "4  Russian Federation     Moscow   55.7522    37.6156"
      ]
     },
     "execution_count": 63,
     "metadata": {},
     "output_type": "execute_result"
    }
   ],
   "source": [
    "locations.head()"
   ]
  },
  {
   "cell_type": "code",
   "execution_count": 64,
   "id": "ee6768bf-5b3c-4f19-91c9-ff4d2f46f6fd",
   "metadata": {},
   "outputs": [
    {
     "data": {
      "text/html": [
       "<div>\n",
       "<style scoped>\n",
       "    .dataframe tbody tr th:only-of-type {\n",
       "        vertical-align: middle;\n",
       "    }\n",
       "\n",
       "    .dataframe tbody tr th {\n",
       "        vertical-align: top;\n",
       "    }\n",
       "\n",
       "    .dataframe thead th {\n",
       "        text-align: right;\n",
       "    }\n",
       "</style>\n",
       "<table border=\"1\" class=\"dataframe\">\n",
       "  <thead>\n",
       "    <tr style=\"text-align: right;\">\n",
       "      <th></th>\n",
       "      <th>addr</th>\n",
       "      <th>req_date</th>\n",
       "      <th>path</th>\n",
       "      <th>status</th>\n",
       "      <th>size</th>\n",
       "      <th>browser</th>\n",
       "      <th>method</th>\n",
       "      <th>country</th>\n",
       "      <th>city</th>\n",
       "      <th>latitude</th>\n",
       "      <th>longitude</th>\n",
       "    </tr>\n",
       "  </thead>\n",
       "  <tbody>\n",
       "    <tr>\n",
       "      <th>0</th>\n",
       "      <td>109.169.248.247</td>\n",
       "      <td>2015-12-12 18:25:11</td>\n",
       "      <td>GET /administrator/ HTTP/1.1</td>\n",
       "      <td>200</td>\n",
       "      <td>4263</td>\n",
       "      <td>Mozilla/5.0 (Windows NT 6.0; rv:34.0) Gecko/20...</td>\n",
       "      <td>GET</td>\n",
       "      <td>Russian Federation</td>\n",
       "      <td>Chapaevsk</td>\n",
       "      <td>52.9781</td>\n",
       "      <td>49.7197</td>\n",
       "    </tr>\n",
       "    <tr>\n",
       "      <th>1</th>\n",
       "      <td>109.169.248.247</td>\n",
       "      <td>2015-12-12 18:25:11</td>\n",
       "      <td>POST /administrator/index.php HTTP/1.1</td>\n",
       "      <td>200</td>\n",
       "      <td>4494</td>\n",
       "      <td>Mozilla/5.0 (Windows NT 6.0; rv:34.0) Gecko/20...</td>\n",
       "      <td>POST</td>\n",
       "      <td>Russian Federation</td>\n",
       "      <td>Chapaevsk</td>\n",
       "      <td>52.9781</td>\n",
       "      <td>49.7197</td>\n",
       "    </tr>\n",
       "    <tr>\n",
       "      <th>2</th>\n",
       "      <td>46.72.177.4</td>\n",
       "      <td>2015-12-12 18:31:08</td>\n",
       "      <td>GET /administrator/ HTTP/1.1</td>\n",
       "      <td>200</td>\n",
       "      <td>4263</td>\n",
       "      <td>Mozilla/5.0 (Windows NT 6.0; rv:34.0) Gecko/20...</td>\n",
       "      <td>GET</td>\n",
       "      <td>Russian Federation</td>\n",
       "      <td>Kursk</td>\n",
       "      <td>51.8830</td>\n",
       "      <td>36.2659</td>\n",
       "    </tr>\n",
       "    <tr>\n",
       "      <th>3</th>\n",
       "      <td>46.72.177.4</td>\n",
       "      <td>2015-12-12 18:31:08</td>\n",
       "      <td>POST /administrator/index.php HTTP/1.1</td>\n",
       "      <td>200</td>\n",
       "      <td>4494</td>\n",
       "      <td>Mozilla/5.0 (Windows NT 6.0; rv:34.0) Gecko/20...</td>\n",
       "      <td>POST</td>\n",
       "      <td>Russian Federation</td>\n",
       "      <td>Kursk</td>\n",
       "      <td>51.8830</td>\n",
       "      <td>36.2659</td>\n",
       "    </tr>\n",
       "    <tr>\n",
       "      <th>4</th>\n",
       "      <td>83.167.113.100</td>\n",
       "      <td>2015-12-12 18:31:25</td>\n",
       "      <td>GET /administrator/ HTTP/1.1</td>\n",
       "      <td>200</td>\n",
       "      <td>4263</td>\n",
       "      <td>Mozilla/5.0 (Windows NT 6.0; rv:34.0) Gecko/20...</td>\n",
       "      <td>GET</td>\n",
       "      <td>Russian Federation</td>\n",
       "      <td>Moscow</td>\n",
       "      <td>55.7522</td>\n",
       "      <td>37.6156</td>\n",
       "    </tr>\n",
       "  </tbody>\n",
       "</table>\n",
       "</div>"
      ],
      "text/plain": [
       "              addr            req_date  \\\n",
       "0  109.169.248.247 2015-12-12 18:25:11   \n",
       "1  109.169.248.247 2015-12-12 18:25:11   \n",
       "2      46.72.177.4 2015-12-12 18:31:08   \n",
       "3      46.72.177.4 2015-12-12 18:31:08   \n",
       "4   83.167.113.100 2015-12-12 18:31:25   \n",
       "\n",
       "                                     path  status  size  \\\n",
       "0            GET /administrator/ HTTP/1.1     200  4263   \n",
       "1  POST /administrator/index.php HTTP/1.1     200  4494   \n",
       "2            GET /administrator/ HTTP/1.1     200  4263   \n",
       "3  POST /administrator/index.php HTTP/1.1     200  4494   \n",
       "4            GET /administrator/ HTTP/1.1     200  4263   \n",
       "\n",
       "                                             browser method  \\\n",
       "0  Mozilla/5.0 (Windows NT 6.0; rv:34.0) Gecko/20...    GET   \n",
       "1  Mozilla/5.0 (Windows NT 6.0; rv:34.0) Gecko/20...   POST   \n",
       "2  Mozilla/5.0 (Windows NT 6.0; rv:34.0) Gecko/20...    GET   \n",
       "3  Mozilla/5.0 (Windows NT 6.0; rv:34.0) Gecko/20...   POST   \n",
       "4  Mozilla/5.0 (Windows NT 6.0; rv:34.0) Gecko/20...    GET   \n",
       "\n",
       "              country       city  latitude  longitude  \n",
       "0  Russian Federation  Chapaevsk   52.9781    49.7197  \n",
       "1  Russian Federation  Chapaevsk   52.9781    49.7197  \n",
       "2  Russian Federation      Kursk   51.8830    36.2659  \n",
       "3  Russian Federation      Kursk   51.8830    36.2659  \n",
       "4  Russian Federation     Moscow   55.7522    37.6156  "
      ]
     },
     "execution_count": 64,
     "metadata": {},
     "output_type": "execute_result"
    }
   ],
   "source": [
    "merged = pd.concat([log, locations], axis=1)\n",
    "merged.head()"
   ]
  },
  {
   "cell_type": "code",
   "execution_count": 66,
   "id": "7f4dfcf4-b4d4-4165-8a12-d6b00b5e9ac3",
   "metadata": {},
   "outputs": [
    {
     "data": {
      "image/png": "[encoded data removed]",
      "text/plain": [
       "<Figure size 640x480 with 1 Axes>"
      ]
     },
     "metadata": {},
     "output_type": "display_data"
    }
   ],
   "source": [
    "top10_cities = merged.groupby('city').size().nlargest(10)\n",
    "top10_cities[::-1].plot(kind='barh');"
   ]
  },
  {
   "cell_type": "code",
   "execution_count": 67,
   "id": "3c168247-a726-42c3-b29a-8d268631b83d",
   "metadata": {},
   "outputs": [
    {
     "data": {
      "text/plain": [
       "['Requirement already satisfied: gmplot in .\\\\venv311\\\\lib\\\\site-packages (1.4.1)',\n",
       " 'Requirement already satisfied: requests in .\\\\venv311\\\\lib\\\\site-packages (from gmplot) (2.31.0)',\n",
       " 'Requirement already satisfied: charset-normalizer<4,>=2 in .\\\\venv311\\\\lib\\\\site-packages (from requests->gmplot) (3.3.2)',\n",
       " 'Requirement already satisfied: idna<4,>=2.5 in .\\\\venv311\\\\lib\\\\site-packages (from requests->gmplot) (3.4)',\n",
       " 'Requirement already satisfied: urllib3<3,>=1.21.1 in .\\\\venv311\\\\lib\\\\site-packages (from requests->gmplot) (2.1.0)',\n",
       " 'Requirement already satisfied: certifi>=2017.4.17 in .\\\\venv311\\\\lib\\\\site-packages (from requests->gmplot) (2023.7.22)',\n",
       " '',\n",
       " '[notice] A new release of pip is available: 23.2.1 -> 23.3.1',\n",
       " '[notice] To update, run: python.exe -m pip install --upgrade pip']"
      ]
     },
     "execution_count": 67,
     "metadata": {},
     "output_type": "execute_result"
    }
   ],
   "source": [
    "!! pip install gmplot"
   ]
  },
  {
   "cell_type": "code",
   "execution_count": 68,
   "id": "8005f340-dc64-4824-9bb1-e76934433ec5",
   "metadata": {},
   "outputs": [],
   "source": [
    "from gmplot import GoogleMapPlotter\n",
    "\n",
    "lats, longs = [], []\n",
    "for city in top10_cities.index:\n",
    "    latitude = merged.loc[city == merged['city'], 'latitude']\n",
    "    longitude = merged.loc[city == merged['city'], 'longitude']\n",
    "    lats.append(latitude.iloc[0])\n",
    "    longs.append(longitude.iloc[0])\n",
    "\n",
    "g_map = GoogleMapPlotter(37, 95, 3)\n",
    "g_map.heatmap(lats, longs, radius=20)\n",
    "g_map.draw('results.html')"
   ]
  },
  {
   "cell_type": "code",
   "execution_count": null,
   "id": "b640779d-2457-4847-87df-644b11e2fe4f",
   "metadata": {},
   "outputs": [],
   "source": []
  }
 ],
 "metadata": {
  "kernelspec": {
   "display_name": "Python 3 (ipykernel)",
   "language": "python",
   "name": "python3"
  },
  "language_info": {
   "codemirror_mode": {
    "name": "ipython",
    "version": 3
   },
   "file_extension": ".py",
   "mimetype": "text/x-python",
   "name": "python",
   "nbconvert_exporter": "python",
   "pygments_lexer": "ipython3",
   "version": "3.11.0"
  }
 },
 "nbformat": 4,
 "nbformat_minor": 5
}
